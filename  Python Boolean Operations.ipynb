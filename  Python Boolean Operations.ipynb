{
 "cells": [
  {
   "cell_type": "code",
   "execution_count": 11,
   "id": "964fb780",
   "metadata": {},
   "outputs": [
    {
     "name": "stdout",
     "output_type": "stream",
     "text": [
      "It's a hot day!\n",
      "Stay hydrated.\n"
     ]
    }
   ],
   "source": [
    "is_hot = True\n",
    "is_cold = False\n",
    "\n",
    "if is_hot:\n",
    "    print(\"It's a hot day!\")\n",
    "    print(\"Stay hydrated.\")\n",
    "elif is_cold: # elif (else if) checks is_cold condition\n",
    "    print(\"Stay warm!\")\n",
    "    print(\"Enjoy your day!\")\n",
    "else: \n",
    "    print(\"it's a lovely day\")\n",
    "    print(\"Enjoy your day!\")"
   ]
  },
  {
   "cell_type": "code",
   "execution_count": 18,
   "id": "37b7cd5c",
   "metadata": {},
   "outputs": [
    {
     "name": "stdout",
     "output_type": "stream",
     "text": [
      "Down Payment: $1000000.0\n"
     ]
    }
   ],
   "source": [
    "price = 10000000\n",
    "good_credit = True\n",
    "\n",
    "if good_credit:\n",
    "    down_payment = 0.1*price\n",
    "else:\n",
    "    down_payment = 0.2*price\n",
    "print(f\"Down Payment: ${down_payment}\") \n",
    "# f shows a \"following argument\"\n",
    "# {} is a place holder"
   ]
  },
  {
   "cell_type": "code",
   "execution_count": null,
   "id": "e36df785",
   "metadata": {},
   "outputs": [],
   "source": []
  }
 ],
 "metadata": {
  "kernelspec": {
   "display_name": "Python 3 (ipykernel)",
   "language": "python",
   "name": "python3"
  },
  "language_info": {
   "codemirror_mode": {
    "name": "ipython",
    "version": 3
   },
   "file_extension": ".py",
   "mimetype": "text/x-python",
   "name": "python",
   "nbconvert_exporter": "python",
   "pygments_lexer": "ipython3",
   "version": "3.9.12"
  }
 },
 "nbformat": 4,
 "nbformat_minor": 5
}
