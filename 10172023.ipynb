{
 "cells": [
  {
   "cell_type": "code",
   "execution_count": 2,
   "metadata": {},
   "outputs": [
    {
     "name": "stdout",
     "output_type": "stream",
     "text": [
      "{'DC', 34, 12}\n"
     ]
    }
   ],
   "source": [
    "# set\n",
    "thisset = {\"DC\",12,34}\n",
    "print(thisset)"
   ]
  },
  {
   "cell_type": "code",
   "execution_count": 3,
   "metadata": {},
   "outputs": [
    {
     "name": "stdout",
     "output_type": "stream",
     "text": [
      "{0, 1, 'A'}\n"
     ]
    }
   ],
   "source": [
    "# True and 1, False and 0 are considered the same value in sets.\n",
    "thisset_1 = {\"A\",1,0,True,False,0,1,True}\n",
    "print(thisset_1)"
   ]
  },
  {
   "cell_type": "code",
   "execution_count": 4,
   "metadata": {},
   "outputs": [
    {
     "name": "stdout",
     "output_type": "stream",
     "text": [
      "3\n"
     ]
    }
   ],
   "source": [
    "thisset_2 = {\"True\",True,False}\n",
    "print(len(thisset_2))"
   ]
  },
  {
   "cell_type": "code",
   "execution_count": 5,
   "metadata": {},
   "outputs": [],
   "source": [
    "# Set items can be of any data type\n",
    "set1 = {True,False,False}\n",
    "\n",
    "set2 = {\"True\",\"False\",\"False\"}"
   ]
  },
  {
   "cell_type": "code",
   "execution_count": 6,
   "metadata": {},
   "outputs": [
    {
     "name": "stdout",
     "output_type": "stream",
     "text": [
      "<class 'set'>\n"
     ]
    }
   ],
   "source": [
    "print(type(set2))"
   ]
  },
  {
   "cell_type": "code",
   "execution_count": 7,
   "metadata": {},
   "outputs": [
    {
     "name": "stdout",
     "output_type": "stream",
     "text": [
      "{'DC', 'NY', '())(UA)'}\n"
     ]
    }
   ],
   "source": [
    "# set() also makes the set but note the double-bracket\n",
    "thisset_3 = set((\"DC\",\"NY\",\"())(UA)\"))\n",
    "print(thisset_3)"
   ]
  },
  {
   "cell_type": "code",
   "execution_count": 8,
   "metadata": {},
   "outputs": [],
   "source": [
    "# List is a collection which is ordered and changeable. Allows duplicate members.\n",
    "# Tuple is a collection which is ordered and unchangeable. Allows duplicate members.\n",
    "# Set is a collection which is unordered, unchangeable*, and unindexed. No duplicate members.\n",
    "# Dictionary is a collection which is ordered** and changeable. No duplicate members.\n",
    "# https://www.w3schools.com/python/python_sets_access.asp"
   ]
  },
  {
   "cell_type": "code",
   "execution_count": 12,
   "metadata": {},
   "outputs": [
    {
     "name": "stdout",
     "output_type": "stream",
     "text": [
      "DC\n",
      "34\n",
      "12\n"
     ]
    }
   ],
   "source": [
    "for i in thisset:\n",
    "    print(i)"
   ]
  },
  {
   "cell_type": "code",
   "execution_count": 18,
   "metadata": {},
   "outputs": [
    {
     "name": "stdout",
     "output_type": "stream",
     "text": [
      "False\n"
     ]
    }
   ],
   "source": [
    "thisset = {\"apple is good!\",\"B\",\"C\",\"D\"}\n",
    "print(\"apple is good\" in thisset)"
   ]
  },
  {
   "cell_type": "code",
   "execution_count": 22,
   "metadata": {},
   "outputs": [
    {
     "name": "stdout",
     "output_type": "stream",
     "text": [
      "{'D', 'orange', 'B', 'C', 'apple is good!'}\n"
     ]
    }
   ],
   "source": [
    "# You can also add an element\n",
    "thisset = {\"apple is good!\",\"B\",\"C\",\"D\"}\n",
    "thisset.add(\"orange\")\n",
    "print(thisset)"
   ]
  },
  {
   "cell_type": "code",
   "execution_count": 26,
   "metadata": {},
   "outputs": [
    {
     "name": "stdout",
     "output_type": "stream",
     "text": [
      "{'B', 'b', 'D', 'apple is good!', 'c', 'a', 'C'}\n"
     ]
    }
   ],
   "source": [
    "# adding elements from another set to an existing set\n",
    "thisset = {\"apple is good!\",\"B\",\"C\",\"D\"}\n",
    "anotherset = {\"a\",\"b\",\"c\"}\n",
    "thisset.update(anotherset)\n",
    "print(thisset)"
   ]
  },
  {
   "cell_type": "code",
   "execution_count": 32,
   "metadata": {},
   "outputs": [
    {
     "name": "stdout",
     "output_type": "stream",
     "text": [
      "{'b', 'BBB', 'c', 'AAA', 'a'}\n"
     ]
    }
   ],
   "source": [
    "anotherset = {\"a\",\"b\",\"c\"}\n",
    "mylist = [\"AAA\",\"BBB\",\"c\"]\n",
    "anotherset.update(mylist)\n",
    "print(anotherset)"
   ]
  },
  {
   "cell_type": "code",
   "execution_count": 36,
   "metadata": {},
   "outputs": [
    {
     "name": "stdout",
     "output_type": "stream",
     "text": [
      "{'BBB', 'c', 'AAA'}\n"
     ]
    }
   ],
   "source": [
    "# To remove, same as other cases such as list or array\n",
    "anotherset.remove(\"b\")\n",
    "print(anotherset)"
   ]
  },
  {
   "cell_type": "code",
   "execution_count": 37,
   "metadata": {},
   "outputs": [
    {
     "name": "stdout",
     "output_type": "stream",
     "text": [
      "{'BBB', 'AAA'}\n"
     ]
    }
   ],
   "source": [
    "# You could use discard too to remove an element\n",
    "anotherset.discard(\"c\")\n",
    "print(anotherset)"
   ]
  },
  {
   "cell_type": "code",
   "execution_count": 39,
   "metadata": {},
   "outputs": [
    {
     "data": {
      "text/plain": [
       "'AAA'"
      ]
     },
     "execution_count": 39,
     "metadata": {},
     "output_type": "execute_result"
    }
   ],
   "source": [
    "#  sets are UNORDERED: pop() randomly selects one element\n",
    "anotherset.pop()"
   ]
  },
  {
   "cell_type": "code",
   "execution_count": 40,
   "metadata": {},
   "outputs": [],
   "source": [
    "del anotherset"
   ]
  },
  {
   "cell_type": "code",
   "execution_count": 58,
   "metadata": {},
   "outputs": [
    {
     "name": "stdout",
     "output_type": "stream",
     "text": [
      "{'b', 1, 2, 3, 'c', 'a'}\n"
     ]
    }
   ],
   "source": [
    "# union and update add two sets together but exclude duplicate items\n",
    "\n",
    "set1 = {\"a\",\"b\",\"c\"}\n",
    "set2 = {1,2,3,\"b\",\"b\"}\n",
    "\n",
    "set3 = set1.union(set2)\n",
    "print(set3)"
   ]
  },
  {
   "cell_type": "code",
   "execution_count": 45,
   "metadata": {},
   "outputs": [
    {
     "name": "stdout",
     "output_type": "stream",
     "text": [
      "{'b', 'c', 'a'}\n"
     ]
    }
   ],
   "source": [
    "set3.intersection_update(set1)\n",
    "print(set3)"
   ]
  },
  {
   "cell_type": "code",
   "execution_count": 54,
   "metadata": {},
   "outputs": [
    {
     "ename": "AttributeError",
     "evalue": "'NoneType' object has no attribute 'intersection'",
     "output_type": "error",
     "traceback": [
      "\u001b[0;31m---------------------------------------------------------------------------\u001b[0m",
      "\u001b[0;31mAttributeError\u001b[0m                            Traceback (most recent call last)",
      "\u001b[0;32m/var/folders/sg/mfby51qn5fq0_rpdw52b6ln00000gp/T/ipykernel_61720/1767696585.py\u001b[0m in \u001b[0;36m<module>\u001b[0;34m\u001b[0m\n\u001b[1;32m      1\u001b[0m \u001b[0;31m# intersection is like inner join\u001b[0m\u001b[0;34m\u001b[0m\u001b[0;34m\u001b[0m\u001b[0m\n\u001b[1;32m      2\u001b[0m \u001b[0;34m\u001b[0m\u001b[0m\n\u001b[0;32m----> 3\u001b[0;31m \u001b[0mset3\u001b[0m\u001b[0;34m.\u001b[0m\u001b[0mintersection\u001b[0m\u001b[0;34m(\u001b[0m\u001b[0mset2\u001b[0m\u001b[0;34m)\u001b[0m\u001b[0;34m\u001b[0m\u001b[0;34m\u001b[0m\u001b[0m\n\u001b[0m\u001b[1;32m      4\u001b[0m \u001b[0mset4\u001b[0m \u001b[0;34m=\u001b[0m \u001b[0;34m{\u001b[0m\u001b[0;34m\"aaaa\"\u001b[0m\u001b[0;34m,\u001b[0m\u001b[0;34m\"bbbb\"\u001b[0m\u001b[0;34m}\u001b[0m\u001b[0;34m\u001b[0m\u001b[0;34m\u001b[0m\u001b[0m\n",
      "\u001b[0;31mAttributeError\u001b[0m: 'NoneType' object has no attribute 'intersection'"
     ]
    }
   ],
   "source": [
    "# intersection is like inner join\n",
    "\n",
    "set3.intersection(set2)"
   ]
  },
  {
   "cell_type": "code",
   "execution_count": 67,
   "metadata": {},
   "outputs": [
    {
     "name": "stdout",
     "output_type": "stream",
     "text": [
      "{'b', 'c', 'a'}\n"
     ]
    }
   ],
   "source": [
    "set1.symmetric_difference_update(set4)\n",
    "print(set1)"
   ]
  },
  {
   "cell_type": "code",
   "execution_count": 65,
   "metadata": {},
   "outputs": [],
   "source": [
    "set4 = {\"aaaa\",\"bbbb\"}"
   ]
  },
  {
   "cell_type": "markdown",
   "metadata": {},
   "source": []
  },
  {
   "cell_type": "code",
   "execution_count": 63,
   "metadata": {},
   "outputs": [
    {
     "name": "stdout",
     "output_type": "stream",
     "text": [
      "{'b', 'c', 'a'}\n"
     ]
    }
   ],
   "source": [
    "print(set1)"
   ]
  },
  {
   "cell_type": "code",
   "execution_count": 61,
   "metadata": {},
   "outputs": [
    {
     "name": "stdout",
     "output_type": "stream",
     "text": [
      "{'google', 'microsoft', 'cherry', 'banana'}\n"
     ]
    }
   ],
   "source": [
    "x = {\"apple\", \"banana\", \"cherry\"}\n",
    "y = {\"google\", \"microsoft\", \"apple\"}\n",
    "\n",
    "z = x.symmetric_difference(y)\n",
    "\n",
    "print(z)"
   ]
  },
  {
   "cell_type": "code",
   "execution_count": 62,
   "metadata": {},
   "outputs": [
    {
     "name": "stdout",
     "output_type": "stream",
     "text": [
      "{'google', 'microsoft', 'cherry', 'banana'}\n"
     ]
    }
   ],
   "source": [
    "x = {\"apple\", \"banana\", \"cherry\"}\n",
    "y = {\"google\", \"microsoft\", \"apple\"}\n",
    "\n",
    "x.symmetric_difference_update(y)\n",
    "\n",
    "print(x)"
   ]
  },
  {
   "cell_type": "code",
   "execution_count": 71,
   "metadata": {},
   "outputs": [
    {
     "name": "stdout",
     "output_type": "stream",
     "text": [
      "20016\n"
     ]
    }
   ],
   "source": [
    "mydictionary = {\n",
    "    \"zipcode\" : 20016,\n",
    "    \"state\": \"DC\",\n",
    "    \"housing type\": \"rent\"\n",
    "}\n",
    "print(mydictionary[\"zipcode\"])"
   ]
  },
  {
   "cell_type": "code",
   "execution_count": 72,
   "metadata": {},
   "outputs": [
    {
     "name": "stdout",
     "output_type": "stream",
     "text": [
      "3\n"
     ]
    }
   ],
   "source": [
    "# to get the number of items in the dictionary\n",
    "print(len(mydictionary))"
   ]
  },
  {
   "cell_type": "code",
   "execution_count": 1,
   "metadata": {},
   "outputs": [
    {
     "name": "stdout",
     "output_type": "stream",
     "text": [
      "['red', 'white', 'blue']\n"
     ]
    }
   ],
   "source": [
    "# dictionary can take string, int, boolean, list data type\n",
    "\n",
    "newdict = {\n",
    "    \"brand\": \"Ford\",\n",
    "    \"electric\": False,\n",
    "    \"year\": 1964,\n",
    "    \"color\": [\"red\", \"white\", \"blue\"]\n",
    "}\n",
    "\n",
    "print(newdict[\"color\"])\n"
   ]
  },
  {
   "cell_type": "code",
   "execution_count": 2,
   "metadata": {},
   "outputs": [
    {
     "name": "stdout",
     "output_type": "stream",
     "text": [
      "Ryo\n"
     ]
    }
   ],
   "source": [
    "thatdict = dict(name = \"Ryo\",\n",
    "                age = 27,\n",
    "                country = \"Japan\")\n",
    "print(thatdict[\"name\"])"
   ]
  },
  {
   "cell_type": "code",
   "execution_count": 5,
   "metadata": {},
   "outputs": [
    {
     "name": "stdout",
     "output_type": "stream",
     "text": [
      "Japan\n"
     ]
    }
   ],
   "source": [
    "x = thatdict.get(\"country\")\n",
    "print(x)"
   ]
  },
  {
   "cell_type": "code",
   "execution_count": 6,
   "metadata": {},
   "outputs": [
    {
     "name": "stdout",
     "output_type": "stream",
     "text": [
      "dict_keys(['name', 'age', 'country'])\n"
     ]
    }
   ],
   "source": [
    "# keys() will return a list of all the keys\n",
    "\n",
    "keys = thatdict.keys()\n",
    "print(keys)"
   ]
  },
  {
   "cell_type": "code",
   "execution_count": 7,
   "metadata": {},
   "outputs": [],
   "source": [
    "car = {\n",
    "\"brand\": \"Ford\",\n",
    "\"model\": \"Mustang\",\n",
    "\"year\": 1964\n",
    "}\n",
    "\n",
    "x = car.keys()\n",
    "print(x)\n"
   ]
  },
  {
   "cell_type": "code",
   "execution_count": 10,
   "metadata": {},
   "outputs": [
    {
     "name": "stdout",
     "output_type": "stream",
     "text": [
      "dict_keys(['brand', 'model', 'year', 'color'])\n"
     ]
    }
   ],
   "source": [
    "# adding the key and its element\n",
    "\n",
    "car[\"color\"] = \"white\"\n",
    "print(x)"
   ]
  },
  {
   "cell_type": "code",
   "execution_count": 13,
   "metadata": {},
   "outputs": [
    {
     "name": "stdout",
     "output_type": "stream",
     "text": [
      "dict_keys(['name', 'age', 'country'])\n"
     ]
    }
   ],
   "source": [
    "# return a list of values in the dictionary\n",
    "\n",
    "x = thatdict.values()\n",
    "print(x)"
   ]
  },
  {
   "cell_type": "code",
   "execution_count": 14,
   "metadata": {},
   "outputs": [
    {
     "name": "stdout",
     "output_type": "stream",
     "text": [
      "{'name': 'Ryo', 'age': 27, 'country': 'Japan', 'born': 'Shiga'}\n"
     ]
    }
   ],
   "source": [
    "thatdict[\"born\"] = \"Shiga\"\n",
    "print(thatdict)"
   ]
  },
  {
   "cell_type": "code",
   "execution_count": 15,
   "metadata": {},
   "outputs": [
    {
     "name": "stdout",
     "output_type": "stream",
     "text": [
      "dict_items([('name', 'Ryo'), ('age', 27), ('country', 'Japan'), ('born', 'Shiga')])\n"
     ]
    }
   ],
   "source": [
    "# return each item in a dictionary as tuples\n",
    "x = thatdict.items()\n",
    "print(x)"
   ]
  },
  {
   "cell_type": "code",
   "execution_count": 16,
   "metadata": {},
   "outputs": [
    {
     "data": {
      "text/plain": [
       "dict_items([('name', 'Ryo'), ('age', 27), ('country', 'Japan'), ('born', 'Shiga')])"
      ]
     },
     "execution_count": 16,
     "metadata": {},
     "output_type": "execute_result"
    }
   ],
   "source": []
  },
  {
   "cell_type": "code",
   "execution_count": null,
   "metadata": {},
   "outputs": [],
   "source": []
  }
 ],
 "metadata": {
  "kernelspec": {
   "display_name": "base",
   "language": "python",
   "name": "python3"
  },
  "language_info": {
   "codemirror_mode": {
    "name": "ipython",
    "version": 3
   },
   "file_extension": ".py",
   "mimetype": "text/x-python",
   "name": "python",
   "nbconvert_exporter": "python",
   "pygments_lexer": "ipython3",
   "version": "3.9.13"
  }
 },
 "nbformat": 4,
 "nbformat_minor": 2
}
