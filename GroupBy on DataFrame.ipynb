{
 "cells": [
  {
   "cell_type": "code",
   "execution_count": 1,
   "id": "70a748c4",
   "metadata": {},
   "outputs": [],
   "source": [
    "import numpy as np\n",
    "import pandas as pd\n",
    "from pandas import Series,DataFrame"
   ]
  },
  {
   "cell_type": "code",
   "execution_count": 2,
   "id": "a299b13f",
   "metadata": {},
   "outputs": [
    {
     "data": {
      "text/html": [
       "<div>\n",
       "<style scoped>\n",
       "    .dataframe tbody tr th:only-of-type {\n",
       "        vertical-align: middle;\n",
       "    }\n",
       "\n",
       "    .dataframe tbody tr th {\n",
       "        vertical-align: top;\n",
       "    }\n",
       "\n",
       "    .dataframe thead th {\n",
       "        text-align: right;\n",
       "    }\n",
       "</style>\n",
       "<table border=\"1\" class=\"dataframe\">\n",
       "  <thead>\n",
       "    <tr style=\"text-align: right;\">\n",
       "      <th></th>\n",
       "      <th>K1</th>\n",
       "      <th>K2</th>\n",
       "      <th>dataset1</th>\n",
       "      <th>dataset2</th>\n",
       "    </tr>\n",
       "  </thead>\n",
       "  <tbody>\n",
       "    <tr>\n",
       "      <th>0</th>\n",
       "      <td>X</td>\n",
       "      <td>alpha</td>\n",
       "      <td>1.384803</td>\n",
       "      <td>0.571121</td>\n",
       "    </tr>\n",
       "    <tr>\n",
       "      <th>1</th>\n",
       "      <td>X</td>\n",
       "      <td>beta</td>\n",
       "      <td>1.117408</td>\n",
       "      <td>-1.237744</td>\n",
       "    </tr>\n",
       "    <tr>\n",
       "      <th>2</th>\n",
       "      <td>Y</td>\n",
       "      <td>alpha</td>\n",
       "      <td>0.884945</td>\n",
       "      <td>0.890255</td>\n",
       "    </tr>\n",
       "    <tr>\n",
       "      <th>3</th>\n",
       "      <td>Y</td>\n",
       "      <td>beta</td>\n",
       "      <td>-2.140222</td>\n",
       "      <td>0.980542</td>\n",
       "    </tr>\n",
       "    <tr>\n",
       "      <th>4</th>\n",
       "      <td>Z</td>\n",
       "      <td>alpha</td>\n",
       "      <td>-2.024828</td>\n",
       "      <td>-0.595553</td>\n",
       "    </tr>\n",
       "  </tbody>\n",
       "</table>\n",
       "</div>"
      ],
      "text/plain": [
       "  K1     K2  dataset1  dataset2\n",
       "0  X  alpha  1.384803  0.571121\n",
       "1  X   beta  1.117408 -1.237744\n",
       "2  Y  alpha  0.884945  0.890255\n",
       "3  Y   beta -2.140222  0.980542\n",
       "4  Z  alpha -2.024828 -0.595553"
      ]
     },
     "execution_count": 2,
     "metadata": {},
     "output_type": "execute_result"
    }
   ],
   "source": [
    "dframe = DataFrame({'K1':['X','X','Y','Y','Z'],\n",
    "                    'K2':['alpha','beta','alpha','beta','alpha'],\n",
    "                   'dataset1':np.random.randn(5),\n",
    "                   'dataset2':np.random.randn(5)})\n",
    "dframe"
   ]
  },
  {
   "cell_type": "code",
   "execution_count": 4,
   "id": "0a72409d",
   "metadata": {},
   "outputs": [
    {
     "data": {
      "text/plain": [
       "<pandas.core.groupby.generic.SeriesGroupBy object at 0x7fcaba134f40>"
      ]
     },
     "execution_count": 4,
     "metadata": {},
     "output_type": "execute_result"
    }
   ],
   "source": [
    "group1 = dframe['dataset1'].groupby(dframe['K1'])\n",
    "group1"
   ]
  },
  {
   "cell_type": "code",
   "execution_count": 5,
   "id": "34c84678",
   "metadata": {},
   "outputs": [
    {
     "data": {
      "text/plain": [
       "K1\n",
       "X    1.251106\n",
       "Y   -0.627639\n",
       "Z   -2.024828\n",
       "Name: dataset1, dtype: float64"
      ]
     },
     "execution_count": 5,
     "metadata": {},
     "output_type": "execute_result"
    }
   ],
   "source": [
    "group1.mean()"
   ]
  },
  {
   "cell_type": "code",
   "execution_count": 7,
   "id": "b83c59e3",
   "metadata": {},
   "outputs": [],
   "source": [
    "cities = np.array(['NY','LA','LA','NY','NY'])\n",
    "\n",
    "month = np.array(['JAN','FEB','JAN','FEB','JAN'])"
   ]
  },
  {
   "cell_type": "code",
   "execution_count": 8,
   "id": "c09a2df1",
   "metadata": {},
   "outputs": [
    {
     "data": {
      "text/plain": [
       "LA  FEB    1.117408\n",
       "    JAN    0.884945\n",
       "NY  FEB   -2.140222\n",
       "    JAN   -0.320012\n",
       "Name: dataset1, dtype: float64"
      ]
     },
     "execution_count": 8,
     "metadata": {},
     "output_type": "execute_result"
    }
   ],
   "source": [
    "# line up dataset1 with cities and months\n",
    "dframe['dataset1'].groupby([cities,month]).mean()"
   ]
  },
  {
   "cell_type": "code",
   "execution_count": 10,
   "id": "aa2d39ae",
   "metadata": {},
   "outputs": [
    {
     "data": {
      "text/html": [
       "<div>\n",
       "<style scoped>\n",
       "    .dataframe tbody tr th:only-of-type {\n",
       "        vertical-align: middle;\n",
       "    }\n",
       "\n",
       "    .dataframe tbody tr th {\n",
       "        vertical-align: top;\n",
       "    }\n",
       "\n",
       "    .dataframe thead th {\n",
       "        text-align: right;\n",
       "    }\n",
       "</style>\n",
       "<table border=\"1\" class=\"dataframe\">\n",
       "  <thead>\n",
       "    <tr style=\"text-align: right;\">\n",
       "      <th></th>\n",
       "      <th>dataset1</th>\n",
       "      <th>dataset2</th>\n",
       "    </tr>\n",
       "    <tr>\n",
       "      <th>K1</th>\n",
       "      <th></th>\n",
       "      <th></th>\n",
       "    </tr>\n",
       "  </thead>\n",
       "  <tbody>\n",
       "    <tr>\n",
       "      <th>X</th>\n",
       "      <td>1.251106</td>\n",
       "      <td>-0.333311</td>\n",
       "    </tr>\n",
       "    <tr>\n",
       "      <th>Y</th>\n",
       "      <td>-0.627639</td>\n",
       "      <td>0.935399</td>\n",
       "    </tr>\n",
       "    <tr>\n",
       "      <th>Z</th>\n",
       "      <td>-2.024828</td>\n",
       "      <td>-0.595553</td>\n",
       "    </tr>\n",
       "  </tbody>\n",
       "</table>\n",
       "</div>"
      ],
      "text/plain": [
       "    dataset1  dataset2\n",
       "K1                    \n",
       "X   1.251106 -0.333311\n",
       "Y  -0.627639  0.935399\n",
       "Z  -2.024828 -0.595553"
      ]
     },
     "execution_count": 10,
     "metadata": {},
     "output_type": "execute_result"
    }
   ],
   "source": [
    "# since grouping the data frame by K1,we see X,Y,Z on the data frame.\n",
    "\n",
    "dframe.groupby('K1').mean()"
   ]
  },
  {
   "cell_type": "code",
   "execution_count": 11,
   "id": "c3af93d3",
   "metadata": {},
   "outputs": [
    {
     "data": {
      "text/html": [
       "<div>\n",
       "<style scoped>\n",
       "    .dataframe tbody tr th:only-of-type {\n",
       "        vertical-align: middle;\n",
       "    }\n",
       "\n",
       "    .dataframe tbody tr th {\n",
       "        vertical-align: top;\n",
       "    }\n",
       "\n",
       "    .dataframe thead th {\n",
       "        text-align: right;\n",
       "    }\n",
       "</style>\n",
       "<table border=\"1\" class=\"dataframe\">\n",
       "  <thead>\n",
       "    <tr style=\"text-align: right;\">\n",
       "      <th></th>\n",
       "      <th></th>\n",
       "      <th>dataset1</th>\n",
       "      <th>dataset2</th>\n",
       "    </tr>\n",
       "    <tr>\n",
       "      <th>K1</th>\n",
       "      <th>K2</th>\n",
       "      <th></th>\n",
       "      <th></th>\n",
       "    </tr>\n",
       "  </thead>\n",
       "  <tbody>\n",
       "    <tr>\n",
       "      <th rowspan=\"2\" valign=\"top\">X</th>\n",
       "      <th>alpha</th>\n",
       "      <td>1.384803</td>\n",
       "      <td>0.571121</td>\n",
       "    </tr>\n",
       "    <tr>\n",
       "      <th>beta</th>\n",
       "      <td>1.117408</td>\n",
       "      <td>-1.237744</td>\n",
       "    </tr>\n",
       "    <tr>\n",
       "      <th rowspan=\"2\" valign=\"top\">Y</th>\n",
       "      <th>alpha</th>\n",
       "      <td>0.884945</td>\n",
       "      <td>0.890255</td>\n",
       "    </tr>\n",
       "    <tr>\n",
       "      <th>beta</th>\n",
       "      <td>-2.140222</td>\n",
       "      <td>0.980542</td>\n",
       "    </tr>\n",
       "    <tr>\n",
       "      <th>Z</th>\n",
       "      <th>alpha</th>\n",
       "      <td>-2.024828</td>\n",
       "      <td>-0.595553</td>\n",
       "    </tr>\n",
       "  </tbody>\n",
       "</table>\n",
       "</div>"
      ],
      "text/plain": [
       "          dataset1  dataset2\n",
       "K1 K2                       \n",
       "X  alpha  1.384803  0.571121\n",
       "   beta   1.117408 -1.237744\n",
       "Y  alpha  0.884945  0.890255\n",
       "   beta  -2.140222  0.980542\n",
       "Z  alpha -2.024828 -0.595553"
      ]
     },
     "execution_count": 11,
     "metadata": {},
     "output_type": "execute_result"
    }
   ],
   "source": [
    "# it's possible to group by multiple rows\n",
    "dframe.groupby(['K1','K2']).mean()"
   ]
  },
  {
   "cell_type": "code",
   "execution_count": 12,
   "id": "5fcbd767",
   "metadata": {},
   "outputs": [
    {
     "data": {
      "text/plain": [
       "K1\n",
       "X    2\n",
       "Y    2\n",
       "Z    1\n",
       "dtype: int64"
      ]
     },
     "execution_count": 12,
     "metadata": {},
     "output_type": "execute_result"
    }
   ],
   "source": [
    "# pretty much count how many same values in one kind of data\n",
    "dframe.groupby(['K1']).size()"
   ]
  },
  {
   "cell_type": "code",
   "execution_count": 13,
   "id": "dc88124d",
   "metadata": {},
   "outputs": [
    {
     "data": {
      "text/html": [
       "<div>\n",
       "<style scoped>\n",
       "    .dataframe tbody tr th:only-of-type {\n",
       "        vertical-align: middle;\n",
       "    }\n",
       "\n",
       "    .dataframe tbody tr th {\n",
       "        vertical-align: top;\n",
       "    }\n",
       "\n",
       "    .dataframe thead th {\n",
       "        text-align: right;\n",
       "    }\n",
       "</style>\n",
       "<table border=\"1\" class=\"dataframe\">\n",
       "  <thead>\n",
       "    <tr style=\"text-align: right;\">\n",
       "      <th></th>\n",
       "      <th>K2</th>\n",
       "      <th>dataset1</th>\n",
       "      <th>dataset2</th>\n",
       "    </tr>\n",
       "    <tr>\n",
       "      <th>K1</th>\n",
       "      <th></th>\n",
       "      <th></th>\n",
       "      <th></th>\n",
       "    </tr>\n",
       "  </thead>\n",
       "  <tbody>\n",
       "    <tr>\n",
       "      <th>X</th>\n",
       "      <td>2</td>\n",
       "      <td>2</td>\n",
       "      <td>2</td>\n",
       "    </tr>\n",
       "    <tr>\n",
       "      <th>Y</th>\n",
       "      <td>2</td>\n",
       "      <td>2</td>\n",
       "      <td>2</td>\n",
       "    </tr>\n",
       "    <tr>\n",
       "      <th>Z</th>\n",
       "      <td>1</td>\n",
       "      <td>1</td>\n",
       "      <td>1</td>\n",
       "    </tr>\n",
       "  </tbody>\n",
       "</table>\n",
       "</div>"
      ],
      "text/plain": [
       "    K2  dataset1  dataset2\n",
       "K1                        \n",
       "X    2         2         2\n",
       "Y    2         2         2\n",
       "Z    1         1         1"
      ]
     },
     "execution_count": 13,
     "metadata": {},
     "output_type": "execute_result"
    }
   ],
   "source": [
    "# you can also count this way\n",
    "dframe.groupby(['K1']).count()"
   ]
  },
  {
   "cell_type": "code",
   "execution_count": 23,
   "id": "f4dfb41e",
   "metadata": {},
   "outputs": [
    {
     "name": "stdout",
     "output_type": "stream",
     "text": [
      "This is the X group\n",
      "  K1     K2  dataset1  dataset2\n",
      "0  X  alpha  1.384803  0.571121\n",
      "1  X   beta  1.117408 -1.237744\n",
      "\n",
      "\n",
      "This is the Y group\n",
      "  K1     K2  dataset1  dataset2\n",
      "2  Y  alpha  0.884945  0.890255\n",
      "3  Y   beta -2.140222  0.980542\n",
      "\n",
      "\n",
      "This is the Z group\n",
      "  K1     K2  dataset1  dataset2\n",
      "4  Z  alpha -2.024828 -0.595553\n",
      "\n",
      "\n"
     ]
    }
   ],
   "source": [
    "for name, group in dframe.groupby('K1'):\n",
    "    print ('This is the '+ name + ' group')\n",
    "    print (group)\n",
    "    print('\\n')"
   ]
  },
  {
   "cell_type": "code",
   "execution_count": 28,
   "id": "7abb4151",
   "metadata": {},
   "outputs": [
    {
     "name": "stdout",
     "output_type": "stream",
     "text": [
      "Key1 = X  Key 2 = alpha\n",
      "group\n",
      "\n",
      "\n",
      "Key1 = X  Key 2 = beta\n",
      "group\n",
      "\n",
      "\n",
      "Key1 = Y  Key 2 = alpha\n",
      "group\n",
      "\n",
      "\n",
      "Key1 = Y  Key 2 = beta\n",
      "group\n",
      "\n",
      "\n",
      "Key1 = Z  Key 2 = alpha\n",
      "group\n",
      "\n",
      "\n"
     ]
    }
   ],
   "source": [
    "for (k1,k2), group in dframe.groupby(['K1','K2']):\n",
    "    print(f'Key1 = {k1}  Key 2 = {k2}')\n",
    "    print ('group')\n",
    "    print ('\\n')"
   ]
  },
  {
   "cell_type": "code",
   "execution_count": 29,
   "id": "aa2f8de3",
   "metadata": {},
   "outputs": [
    {
     "data": {
      "text/plain": [
       "{'X':   K1     K2  dataset1  dataset2\n",
       " 0  X  alpha  1.384803  0.571121\n",
       " 1  X   beta  1.117408 -1.237744,\n",
       " 'Y':   K1     K2  dataset1  dataset2\n",
       " 2  Y  alpha  0.884945  0.890255\n",
       " 3  Y   beta -2.140222  0.980542,\n",
       " 'Z':   K1     K2  dataset1  dataset2\n",
       " 4  Z  alpha -2.024828 -0.595553}"
      ]
     },
     "execution_count": 29,
     "metadata": {},
     "output_type": "execute_result"
    }
   ],
   "source": [
    "group_dict = dict(list(dframe.groupby('K1')))\n",
    "group_dict"
   ]
  },
  {
   "cell_type": "code",
   "execution_count": 30,
   "id": "cf55d4d9",
   "metadata": {},
   "outputs": [
    {
     "data": {
      "text/html": [
       "<div>\n",
       "<style scoped>\n",
       "    .dataframe tbody tr th:only-of-type {\n",
       "        vertical-align: middle;\n",
       "    }\n",
       "\n",
       "    .dataframe tbody tr th {\n",
       "        vertical-align: top;\n",
       "    }\n",
       "\n",
       "    .dataframe thead th {\n",
       "        text-align: right;\n",
       "    }\n",
       "</style>\n",
       "<table border=\"1\" class=\"dataframe\">\n",
       "  <thead>\n",
       "    <tr style=\"text-align: right;\">\n",
       "      <th></th>\n",
       "      <th>K1</th>\n",
       "      <th>K2</th>\n",
       "      <th>dataset1</th>\n",
       "      <th>dataset2</th>\n",
       "    </tr>\n",
       "  </thead>\n",
       "  <tbody>\n",
       "    <tr>\n",
       "      <th>0</th>\n",
       "      <td>X</td>\n",
       "      <td>alpha</td>\n",
       "      <td>1.384803</td>\n",
       "      <td>0.571121</td>\n",
       "    </tr>\n",
       "    <tr>\n",
       "      <th>1</th>\n",
       "      <td>X</td>\n",
       "      <td>beta</td>\n",
       "      <td>1.117408</td>\n",
       "      <td>-1.237744</td>\n",
       "    </tr>\n",
       "  </tbody>\n",
       "</table>\n",
       "</div>"
      ],
      "text/plain": [
       "  K1     K2  dataset1  dataset2\n",
       "0  X  alpha  1.384803  0.571121\n",
       "1  X   beta  1.117408 -1.237744"
      ]
     },
     "execution_count": 30,
     "metadata": {},
     "output_type": "execute_result"
    }
   ],
   "source": [
    "group_dict['X']"
   ]
  },
  {
   "cell_type": "code",
   "execution_count": 31,
   "id": "cf01d311",
   "metadata": {},
   "outputs": [],
   "source": [
    "group_dict_axis1 = dict(list(dframe.groupby(dframe.dtypes,axis = 1)))"
   ]
  },
  {
   "cell_type": "code",
   "execution_count": 32,
   "id": "6bddf1d8",
   "metadata": {},
   "outputs": [
    {
     "data": {
      "text/plain": [
       "{dtype('float64'):    dataset1  dataset2\n",
       " 0  1.384803  0.571121\n",
       " 1  1.117408 -1.237744\n",
       " 2  0.884945  0.890255\n",
       " 3 -2.140222  0.980542\n",
       " 4 -2.024828 -0.595553,\n",
       " dtype('O'):   K1     K2\n",
       " 0  X  alpha\n",
       " 1  X   beta\n",
       " 2  Y  alpha\n",
       " 3  Y   beta\n",
       " 4  Z  alpha}"
      ]
     },
     "execution_count": 32,
     "metadata": {},
     "output_type": "execute_result"
    }
   ],
   "source": [
    "group_dict_axis1"
   ]
  },
  {
   "cell_type": "code",
   "execution_count": 33,
   "id": "2ad35cff",
   "metadata": {},
   "outputs": [
    {
     "data": {
      "text/html": [
       "<div>\n",
       "<style scoped>\n",
       "    .dataframe tbody tr th:only-of-type {\n",
       "        vertical-align: middle;\n",
       "    }\n",
       "\n",
       "    .dataframe tbody tr th {\n",
       "        vertical-align: top;\n",
       "    }\n",
       "\n",
       "    .dataframe thead th {\n",
       "        text-align: right;\n",
       "    }\n",
       "</style>\n",
       "<table border=\"1\" class=\"dataframe\">\n",
       "  <thead>\n",
       "    <tr style=\"text-align: right;\">\n",
       "      <th></th>\n",
       "      <th></th>\n",
       "      <th>dataset2</th>\n",
       "    </tr>\n",
       "    <tr>\n",
       "      <th>K1</th>\n",
       "      <th>K2</th>\n",
       "      <th></th>\n",
       "    </tr>\n",
       "  </thead>\n",
       "  <tbody>\n",
       "    <tr>\n",
       "      <th rowspan=\"2\" valign=\"top\">X</th>\n",
       "      <th>alpha</th>\n",
       "      <td>0.571121</td>\n",
       "    </tr>\n",
       "    <tr>\n",
       "      <th>beta</th>\n",
       "      <td>-1.237744</td>\n",
       "    </tr>\n",
       "    <tr>\n",
       "      <th rowspan=\"2\" valign=\"top\">Y</th>\n",
       "      <th>alpha</th>\n",
       "      <td>0.890255</td>\n",
       "    </tr>\n",
       "    <tr>\n",
       "      <th>beta</th>\n",
       "      <td>0.980542</td>\n",
       "    </tr>\n",
       "    <tr>\n",
       "      <th>Z</th>\n",
       "      <th>alpha</th>\n",
       "      <td>-0.595553</td>\n",
       "    </tr>\n",
       "  </tbody>\n",
       "</table>\n",
       "</div>"
      ],
      "text/plain": [
       "          dataset2\n",
       "K1 K2             \n",
       "X  alpha  0.571121\n",
       "   beta  -1.237744\n",
       "Y  alpha  0.890255\n",
       "   beta   0.980542\n",
       "Z  alpha -0.595553"
      ]
     },
     "execution_count": 33,
     "metadata": {},
     "output_type": "execute_result"
    }
   ],
   "source": [
    "# find the mean values for dataset2 \n",
    "dataset2_group = dframe.groupby(['K1','K2'])[['dataset2']]\n",
    "dataset2_group.mean()"
   ]
  },
  {
   "cell_type": "code",
   "execution_count": null,
   "id": "ef3055dd",
   "metadata": {},
   "outputs": [],
   "source": []
  }
 ],
 "metadata": {
  "kernelspec": {
   "display_name": "Python 3 (ipykernel)",
   "language": "python",
   "name": "python3"
  },
  "language_info": {
   "codemirror_mode": {
    "name": "ipython",
    "version": 3
   },
   "file_extension": ".py",
   "mimetype": "text/x-python",
   "name": "python",
   "nbconvert_exporter": "python",
   "pygments_lexer": "ipython3",
   "version": "3.9.12"
  }
 },
 "nbformat": 4,
 "nbformat_minor": 5
}
