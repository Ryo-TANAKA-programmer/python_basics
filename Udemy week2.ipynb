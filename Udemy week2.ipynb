{
 "cells": [
  {
   "cell_type": "code",
   "execution_count": 2,
   "id": "8b7fbfab",
   "metadata": {},
   "outputs": [],
   "source": [
    "import numpy as np"
   ]
  },
  {
   "cell_type": "code",
   "execution_count": 3,
   "id": "6e67ef54",
   "metadata": {},
   "outputs": [],
   "source": [
    "my_list = [1,2,3,4]"
   ]
  },
  {
   "cell_type": "code",
   "execution_count": 5,
   "id": "ad1c4910",
   "metadata": {},
   "outputs": [],
   "source": [
    "my_array1 = np.array(my_list)"
   ]
  },
  {
   "cell_type": "code",
   "execution_count": 7,
   "id": "8f4f9cf9",
   "metadata": {},
   "outputs": [
    {
     "data": {
      "text/plain": [
       "array([1, 2, 3, 4])"
      ]
     },
     "execution_count": 7,
     "metadata": {},
     "output_type": "execute_result"
    }
   ],
   "source": [
    "my_array1"
   ]
  },
  {
   "cell_type": "code",
   "execution_count": 9,
   "id": "8eb00ecc",
   "metadata": {},
   "outputs": [],
   "source": [
    "my_list2 = [11,22,33,44]"
   ]
  },
  {
   "cell_type": "code",
   "execution_count": 12,
   "id": "b5e61179",
   "metadata": {},
   "outputs": [],
   "source": [
    "my_lists = [my_list,my_list2]"
   ]
  },
  {
   "cell_type": "code",
   "execution_count": 15,
   "id": "5f971f05",
   "metadata": {},
   "outputs": [],
   "source": [
    "my_array2 = np.array(my_lists)"
   ]
  },
  {
   "cell_type": "code",
   "execution_count": 17,
   "id": "c9df50d7",
   "metadata": {},
   "outputs": [
    {
     "data": {
      "text/plain": [
       "array([[ 1,  2,  3,  4],\n",
       "       [11, 22, 33, 44]])"
      ]
     },
     "execution_count": 17,
     "metadata": {},
     "output_type": "execute_result"
    }
   ],
   "source": [
    "my_array2"
   ]
  },
  {
   "cell_type": "code",
   "execution_count": 18,
   "id": "986b15e8",
   "metadata": {},
   "outputs": [
    {
     "data": {
      "text/plain": [
       "(2, 4)"
      ]
     },
     "execution_count": 18,
     "metadata": {},
     "output_type": "execute_result"
    }
   ],
   "source": [
    "my_array2.shape"
   ]
  },
  {
   "cell_type": "code",
   "execution_count": 20,
   "id": "91d0d1a6",
   "metadata": {},
   "outputs": [
    {
     "data": {
      "text/plain": [
       "dtype('int64')"
      ]
     },
     "execution_count": 20,
     "metadata": {},
     "output_type": "execute_result"
    }
   ],
   "source": [
    "my_array2.dtype"
   ]
  },
  {
   "cell_type": "code",
   "execution_count": 22,
   "id": "79f2c3be",
   "metadata": {},
   "outputs": [
    {
     "data": {
      "text/plain": [
       "array([0., 0., 0., 0., 0.])"
      ]
     },
     "execution_count": 22,
     "metadata": {},
     "output_type": "execute_result"
    }
   ],
   "source": [
    "np.zeros(5)"
   ]
  },
  {
   "cell_type": "code",
   "execution_count": 24,
   "id": "88b8000f",
   "metadata": {},
   "outputs": [],
   "source": [
    "my_zeros_array = np.zeros(5)"
   ]
  },
  {
   "cell_type": "code",
   "execution_count": 26,
   "id": "65c83ca4",
   "metadata": {},
   "outputs": [
    {
     "data": {
      "text/plain": [
       "dtype('float64')"
      ]
     },
     "execution_count": 26,
     "metadata": {},
     "output_type": "execute_result"
    }
   ],
   "source": [
    "my_zeros_array.dtype"
   ]
  },
  {
   "cell_type": "code",
   "execution_count": 28,
   "id": "406be33a",
   "metadata": {},
   "outputs": [
    {
     "data": {
      "text/plain": [
       "array([[1., 1., 1., 1., 1.],\n",
       "       [1., 1., 1., 1., 1.],\n",
       "       [1., 1., 1., 1., 1.],\n",
       "       [1., 1., 1., 1., 1.],\n",
       "       [1., 1., 1., 1., 1.]])"
      ]
     },
     "execution_count": 28,
     "metadata": {},
     "output_type": "execute_result"
    }
   ],
   "source": [
    "np.ones([5,5])"
   ]
  },
  {
   "cell_type": "code",
   "execution_count": 30,
   "id": "6241256d",
   "metadata": {},
   "outputs": [
    {
     "data": {
      "text/plain": [
       "array([0., 0., 0., 0., 0.])"
      ]
     },
     "execution_count": 30,
     "metadata": {},
     "output_type": "execute_result"
    }
   ],
   "source": [
    "np.empty(5)"
   ]
  },
  {
   "cell_type": "code",
   "execution_count": 32,
   "id": "11a505c9",
   "metadata": {},
   "outputs": [
    {
     "data": {
      "text/plain": [
       "array([[1., 0., 0., 0., 0.],\n",
       "       [0., 1., 0., 0., 0.],\n",
       "       [0., 0., 1., 0., 0.],\n",
       "       [0., 0., 0., 1., 0.],\n",
       "       [0., 0., 0., 0., 1.]])"
      ]
     },
     "execution_count": 32,
     "metadata": {},
     "output_type": "execute_result"
    }
   ],
   "source": [
    "np.eye(5)"
   ]
  },
  {
   "cell_type": "code",
   "execution_count": 34,
   "id": "6a9c14e7",
   "metadata": {},
   "outputs": [
    {
     "data": {
      "text/plain": [
       "array([0, 1, 2, 3, 4])"
      ]
     },
     "execution_count": 34,
     "metadata": {},
     "output_type": "execute_result"
    }
   ],
   "source": [
    "np.arange(5)"
   ]
  },
  {
   "cell_type": "code",
   "execution_count": 36,
   "id": "9be0e49e",
   "metadata": {},
   "outputs": [
    {
     "data": {
      "text/plain": [
       "array([ 5,  7,  9, 11, 13, 15, 17, 19, 21, 23, 25, 27, 29, 31, 33, 35, 37,\n",
       "       39, 41, 43, 45, 47, 49])"
      ]
     },
     "execution_count": 36,
     "metadata": {},
     "output_type": "execute_result"
    }
   ],
   "source": [
    "np.arange(5,50,2)"
   ]
  },
  {
   "cell_type": "code",
   "execution_count": null,
   "id": "ef09316c",
   "metadata": {},
   "outputs": [],
   "source": []
  }
 ],
 "metadata": {
  "kernelspec": {
   "display_name": "Python 3 (ipykernel)",
   "language": "python",
   "name": "python3"
  },
  "language_info": {
   "codemirror_mode": {
    "name": "ipython",
    "version": 3
   },
   "file_extension": ".py",
   "mimetype": "text/x-python",
   "name": "python",
   "nbconvert_exporter": "python",
   "pygments_lexer": "ipython3",
   "version": "3.9.12"
  }
 },
 "nbformat": 4,
 "nbformat_minor": 5
}
