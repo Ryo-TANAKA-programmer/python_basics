{
 "cells": [
  {
   "cell_type": "code",
   "execution_count": 23,
   "id": "c650070c",
   "metadata": {},
   "outputs": [
    {
     "data": {
      "text/plain": [
       "'/Users/ryotanaka'"
      ]
     },
     "execution_count": 23,
     "metadata": {},
     "output_type": "execute_result"
    }
   ],
   "source": [
    "pwd #it shows where your working directory is."
   ]
  },
  {
   "cell_type": "code",
   "execution_count": null,
   "id": "9081987c",
   "metadata": {},
   "outputs": [],
   "source": []
  },
  {
   "cell_type": "code",
   "execution_count": 4,
   "id": "422341bd",
   "metadata": {},
   "outputs": [
    {
     "name": "stdout",
     "output_type": "stream",
     "text": [
      "hello world\n"
     ]
    }
   ],
   "source": [
    "print ('hello world')"
   ]
  },
  {
   "cell_type": "code",
   "execution_count": 7,
   "id": "ae62bff2",
   "metadata": {},
   "outputs": [
    {
     "name": "stdout",
     "output_type": "stream",
     "text": [
      "shift + enter will run a cell\n"
     ]
    }
   ],
   "source": [
    "print ('shift + enter will run a cell')"
   ]
  },
  {
   "cell_type": "code",
   "execution_count": 8,
   "id": "80871b94",
   "metadata": {},
   "outputs": [
    {
     "name": "stdout",
     "output_type": "stream",
     "text": [
      "command + enter will run a cell\n"
     ]
    }
   ],
   "source": [
    "print ('command + enter will run a cell')"
   ]
  },
  {
   "cell_type": "code",
   "execution_count": 17,
   "id": "c06ccae4",
   "metadata": {},
   "outputs": [],
   "source": []
  },
  {
   "cell_type": "code",
   "execution_count": 18,
   "id": "85f8de97",
   "metadata": {},
   "outputs": [
    {
     "name": "stdout",
     "output_type": "stream",
     "text": [
      "Tab will show a pop up of the methods on an object!\n"
     ]
    }
   ],
   "source": [
    "print ('Tab will show a pop up of the methods on an object!')"
   ]
  },
  {
   "cell_type": "markdown",
   "id": "4090f951",
   "metadata": {},
   "source": [
    "Markdown text. so I can write normal text here. This will not run as code."
   ]
  },
  {
   "cell_type": "code",
   "execution_count": 21,
   "id": "0ce132f0",
   "metadata": {},
   "outputs": [],
   "source": [
    "# This is a comment."
   ]
  },
  {
   "cell_type": "code",
   "execution_count": 22,
   "id": "9aa8be79",
   "metadata": {},
   "outputs": [
    {
     "data": {
      "text/plain": [
       "'\\nlarger\\nmultiline\\ncomment\\n'"
      ]
     },
     "execution_count": 22,
     "metadata": {},
     "output_type": "execute_result"
    }
   ],
   "source": [
    "'''\n",
    "larger\n",
    "multiline\n",
    "comment\n",
    "'''"
   ]
  },
  {
   "cell_type": "code",
   "execution_count": null,
   "id": "8c05f3b3",
   "metadata": {},
   "outputs": [],
   "source": []
  }
 ],
 "metadata": {
  "kernelspec": {
   "display_name": "Python 3 (ipykernel)",
   "language": "python",
   "name": "python3"
  },
  "language_info": {
   "codemirror_mode": {
    "name": "ipython",
    "version": 3
   },
   "file_extension": ".py",
   "mimetype": "text/x-python",
   "name": "python",
   "nbconvert_exporter": "python",
   "pygments_lexer": "ipython3",
   "version": "3.9.12"
  }
 },
 "nbformat": 4,
 "nbformat_minor": 5
}
