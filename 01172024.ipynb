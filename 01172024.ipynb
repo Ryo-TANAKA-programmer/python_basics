{
 "cells": [
  {
   "cell_type": "code",
   "execution_count": 3,
   "metadata": {},
   "outputs": [
    {
     "name": "stdout",
     "output_type": "stream",
     "text": [
      "15\n"
     ]
    }
   ],
   "source": [
    "# lambda arguments : expression\n",
    "\n",
    "x = lambda p : p + 10\n",
    "print(x(5))"
   ]
  },
  {
   "cell_type": "code",
   "execution_count": 5,
   "id": "1fd5dbab",
   "metadata": {},
   "outputs": [
    {
     "name": "stdout",
     "output_type": "stream",
     "text": [
      "4\n"
     ]
    }
   ],
   "source": [
    "# lambda function can take any number of arguments\n",
    "\n",
    "y = lambda a, b : a * b\n",
    "print(y(2,2))"
   ]
  },
  {
   "cell_type": "code",
   "execution_count": 6,
   "id": "a5ed92ce",
   "metadata": {},
   "outputs": [
    {
     "name": "stdout",
     "output_type": "stream",
     "text": [
      "5\n"
     ]
    }
   ],
   "source": [
    "z = lambda a, b, c : (a * b) - c\n",
    "print(z(2,3,1))"
   ]
  },
  {
   "cell_type": "code",
   "execution_count": 9,
   "id": "f1f9162b",
   "metadata": {},
   "outputs": [
    {
     "name": "stdout",
     "output_type": "stream",
     "text": [
      "12\n"
     ]
    }
   ],
   "source": [
    "def my_func(n):\n",
    "    return lambda a, b, c : (a + b + c) * n # Although \"my_func\" only takes one argument, lambda can take any number of arguments\n",
    "\n",
    "\n",
    "double_ope = my_func(2)\n",
    "print(double_ope(1,2,3))"
   ]
  },
  {
   "cell_type": "code",
   "execution_count": null,
   "id": "8c14922d",
   "metadata": {},
   "outputs": [],
   "source": []
  }
 ],
 "metadata": {
  "kernelspec": {
   "display_name": "base",
   "language": "python",
   "name": "python3"
  },
  "language_info": {
   "codemirror_mode": {
    "name": "ipython",
    "version": 3
   },
   "file_extension": ".py",
   "mimetype": "text/x-python",
   "name": "python",
   "nbconvert_exporter": "python",
   "pygments_lexer": "ipython3",
   "version": "3.9.18"
  }
 },
 "nbformat": 4,
 "nbformat_minor": 5
}
