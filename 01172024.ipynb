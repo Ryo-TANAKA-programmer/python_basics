{
 "cells": [
  {
   "cell_type": "code",
   "execution_count": 1,
   "metadata": {},
   "outputs": [
    {
     "name": "stdout",
     "output_type": "stream",
     "text": [
      "15\n"
     ]
    }
   ],
   "source": [
    "# lambda arguments : expression\n",
    "\n",
    "x = lambda p : p + 10\n",
    "print(x(5))"
   ]
  },
  {
   "cell_type": "code",
   "execution_count": 2,
   "id": "1fd5dbab",
   "metadata": {},
   "outputs": [
    {
     "name": "stdout",
     "output_type": "stream",
     "text": [
      "4\n"
     ]
    }
   ],
   "source": [
    "# lambda function can take any number of arguments\n",
    "\n",
    "y = lambda a, b : a * b\n",
    "print(y(2,2))"
   ]
  },
  {
   "cell_type": "code",
   "execution_count": 3,
   "id": "a5ed92ce",
   "metadata": {},
   "outputs": [
    {
     "name": "stdout",
     "output_type": "stream",
     "text": [
      "5\n"
     ]
    }
   ],
   "source": [
    "z = lambda a, b, c : (a * b) - c\n",
    "print(z(2,3,1))"
   ]
  },
  {
   "cell_type": "code",
   "execution_count": 4,
   "id": "f1f9162b",
   "metadata": {},
   "outputs": [
    {
     "name": "stdout",
     "output_type": "stream",
     "text": [
      "12\n"
     ]
    }
   ],
   "source": [
    "def my_func(n):\n",
    "    return lambda a, b, c : (a + b + c) * n # Although \"my_func\" only takes one argument, lambda can take any number of arguments\n",
    "\n",
    "\n",
    "double_ope = my_func(2)\n",
    "print(double_ope(1,2,3))"
   ]
  },
  {
   "cell_type": "code",
   "execution_count": 8,
   "id": "8c14922d",
   "metadata": {},
   "outputs": [
    {
     "name": "stdout",
     "output_type": "stream",
     "text": [
      "22\n",
      "33\n"
     ]
    }
   ],
   "source": [
    "def my_func1(n):\n",
    "    return lambda a : a * n\n",
    "doubler = my_func1(2)\n",
    "tripler = my_func1(3)\n",
    "\n",
    "print(doubler(11))\n",
    "print(tripler(11))"
   ]
  },
  {
   "cell_type": "markdown",
   "id": "0fe4d2a6",
   "metadata": {},
   "source": [
    "## Array"
   ]
  },
  {
   "cell_type": "code",
   "execution_count": 9,
   "id": "c456cb6a",
   "metadata": {},
   "outputs": [
    {
     "data": {
      "text/plain": [
       "'Toyota'"
      ]
     },
     "execution_count": 9,
     "metadata": {},
     "output_type": "execute_result"
    }
   ],
   "source": [
    "cars = [\"Toyota\",\"Honda\",\"Subaru\"]\n",
    "cars[0]"
   ]
  },
  {
   "cell_type": "code",
   "execution_count": 10,
   "id": "d26565aa",
   "metadata": {},
   "outputs": [
    {
     "data": {
      "text/plain": [
       "'Honda'"
      ]
     },
     "execution_count": 10,
     "metadata": {},
     "output_type": "execute_result"
    }
   ],
   "source": [
    "cars[0] = \"Honda\"\n",
    "cars[0]"
   ]
  },
  {
   "cell_type": "code",
   "execution_count": 11,
   "id": "2511ebf2",
   "metadata": {},
   "outputs": [
    {
     "data": {
      "text/plain": [
       "['Honda', 'Honda', 'Subaru']"
      ]
     },
     "execution_count": 11,
     "metadata": {},
     "output_type": "execute_result"
    }
   ],
   "source": [
    "cars"
   ]
  },
  {
   "cell_type": "code",
   "execution_count": 15,
   "id": "bd2bfd5f",
   "metadata": {},
   "outputs": [],
   "source": [
    "x = len(cars) #length of an array\n",
    "x\n",
    "cars[0] = \"Toyota\""
   ]
  },
  {
   "cell_type": "code",
   "execution_count": 16,
   "id": "61fa9a42",
   "metadata": {},
   "outputs": [
    {
     "name": "stdout",
     "output_type": "stream",
     "text": [
      "Toyota\n",
      "Honda\n",
      "Subaru\n"
     ]
    }
   ],
   "source": [
    "for i in cars:\n",
    "    print(i)"
   ]
  },
  {
   "cell_type": "code",
   "execution_count": 17,
   "id": "d96bb37b",
   "metadata": {},
   "outputs": [
    {
     "data": {
      "text/plain": [
       "['Toyota', 'Honda', 'Subaru', 'Matsuda']"
      ]
     },
     "execution_count": 17,
     "metadata": {},
     "output_type": "execute_result"
    }
   ],
   "source": [
    "cars.append(\"Matsuda\") # append to add\n",
    "cars"
   ]
  },
  {
   "cell_type": "code",
   "execution_count": 22,
   "id": "01cefed5",
   "metadata": {},
   "outputs": [
    {
     "data": {
      "text/plain": [
       "['Toyota', 'Honda']"
      ]
     },
     "execution_count": 22,
     "metadata": {},
     "output_type": "execute_result"
    }
   ],
   "source": [
    "cars.pop(2) # pop to remove \n",
    "cars"
   ]
  },
  {
   "cell_type": "code",
   "execution_count": 23,
   "id": "6a096757",
   "metadata": {},
   "outputs": [],
   "source": [
    "cars.clear() # remove all the elements from the array/list"
   ]
  },
  {
   "cell_type": "code",
   "execution_count": 28,
   "id": "e9e3d9ac",
   "metadata": {},
   "outputs": [
    {
     "data": {
      "text/plain": [
       "1"
      ]
     },
     "execution_count": 28,
     "metadata": {},
     "output_type": "execute_result"
    }
   ],
   "source": [
    "airport = [\"DCA\",\"IAD\",\"BWI\"]\n",
    "airport.count(\"DCA\") # returns the number of the element put in ()"
   ]
  },
  {
   "cell_type": "code",
   "execution_count": 32,
   "id": "2a7fc952",
   "metadata": {},
   "outputs": [],
   "source": [
    "# add each element of a list to the end of the list/array\n",
    "airport.extend(\"LAX\")"
   ]
  },
  {
   "cell_type": "code",
   "execution_count": 33,
   "id": "378cc902",
   "metadata": {},
   "outputs": [
    {
     "data": {
      "text/plain": [
       "['DCA', 'IAD', 'BWI', 'L', 'A', 'X', 'L', 'A', 'X']"
      ]
     },
     "execution_count": 33,
     "metadata": {},
     "output_type": "execute_result"
    }
   ],
   "source": [
    "airport"
   ]
  },
  {
   "cell_type": "code",
   "execution_count": 35,
   "id": "24a2b42e",
   "metadata": {},
   "outputs": [
    {
     "data": {
      "text/plain": [
       "3"
      ]
     },
     "execution_count": 35,
     "metadata": {},
     "output_type": "execute_result"
    }
   ],
   "source": [
    "airport.index(\"L\") \n",
    "# returns the index of the first element of the specified value\n",
    "# It's first element!"
   ]
  },
  {
   "cell_type": "code",
   "execution_count": 36,
   "id": "c46d21d0",
   "metadata": {},
   "outputs": [
    {
     "data": {
      "text/plain": [
       "['DCA', 'IAD', 'BWI', 'A', 'X', 'L', 'A', 'X']"
      ]
     },
     "execution_count": 36,
     "metadata": {},
     "output_type": "execute_result"
    }
   ],
   "source": [
    "airport.remove(\"L\") # removes the first element of the specified value\n",
    "airport"
   ]
  },
  {
   "cell_type": "code",
   "execution_count": 39,
   "id": "befbc365",
   "metadata": {},
   "outputs": [
    {
     "data": {
      "text/plain": [
       "['DCA', 'IAD', 'BWI', 'A', 'X', 'L', 'A', 'X']"
      ]
     },
     "execution_count": 39,
     "metadata": {},
     "output_type": "execute_result"
    }
   ],
   "source": [
    "# reverse the order\n",
    "airport.reverse()\n",
    "airport"
   ]
  },
  {
   "cell_type": "code",
   "execution_count": 43,
   "id": "1c867f87",
   "metadata": {},
   "outputs": [
    {
     "data": {
      "text/plain": [
       "['A', 'A', 'BWI', 'DCA', 'IAD', 'L', 'X', 'X']"
      ]
     },
     "execution_count": 43,
     "metadata": {},
     "output_type": "execute_result"
    }
   ],
   "source": [
    "airport.sort()\n",
    "airport"
   ]
  },
  {
   "cell_type": "code",
   "execution_count": null,
   "id": "fec5eb14",
   "metadata": {},
   "outputs": [],
   "source": []
  }
 ],
 "metadata": {
  "kernelspec": {
   "display_name": "base",
   "language": "python",
   "name": "python3"
  },
  "language_info": {
   "codemirror_mode": {
    "name": "ipython",
    "version": 3
   },
   "file_extension": ".py",
   "mimetype": "text/x-python",
   "name": "python",
   "nbconvert_exporter": "python",
   "pygments_lexer": "ipython3",
   "version": "3.9.18"
  }
 },
 "nbformat": 4,
 "nbformat_minor": 5
}
